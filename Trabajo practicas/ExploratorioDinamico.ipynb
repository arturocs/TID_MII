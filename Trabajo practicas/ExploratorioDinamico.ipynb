{
 "cells": [
  {
   "cell_type": "code",
   "execution_count": null,
   "metadata": {},
   "outputs": [],
   "source": [
    "import plotly.express as px\n",
    "import plotly.graph_objs as go\n",
    "import plotly.figure_factory as ff\n",
    "from plotly.offline import init_notebook_mode, iplot\n",
    "import matplotlib.pyplot as plt\n",
    "import seaborn as sns\n",
    "import numpy as np \n",
    "import pandas as pd "
   ]
  },
  {
   "cell_type": "code",
   "execution_count": null,
   "metadata": {},
   "outputs": [],
   "source": [
    "dataset=pd.read_csv('./heart_failure_clinical_records_dataset.csv')\n"
   ]
  },
  {
   "cell_type": "code",
   "execution_count": null,
   "metadata": {},
   "outputs": [],
   "source": [
    "#Relacion supervivencia con edad\n",
    "\n",
    "surv=dataset[dataset['DEATH_EVENT']==0]['age']\n",
    "not_surv=dataset[dataset['DEATH_EVENT']==1]['age']\n",
    "values=[surv,not_surv]\n",
    "labels=['survived','not_survived']\n",
    "fig=ff.create_distplot(values,labels,bin_size=0.5)\n",
    "fig.show()"
   ]
  },
  {
   "cell_type": "code",
   "execution_count": null,
   "metadata": {},
   "outputs": [],
   "source": [
    "#Distribución de la edad\n",
    "import plotly.graph_objects as go\n",
    "\n",
    "fig = go.Figure()\n",
    "fig.add_trace(go.Histogram(\n",
    "    x = dataset['age'],\n",
    "    xbins=dict( # bins used for histogram\n",
    "        start=40,\n",
    "        end=95,\n",
    "        size=2\n",
    "    ),\n",
    "    marker_color='#e8ab60',\n",
    "    opacity=1\n",
    "))\n",
    "\n",
    "fig.update_layout(\n",
    "    title_text='AGE DISTRIBUTION',\n",
    "    xaxis_title_text='AGE',\n",
    "    yaxis_title_text='COUNT', \n",
    "    bargap=0.05, # gap between bars of adjacent location coordinates\n",
    "    xaxis =  {'showgrid': False },\n",
    "    yaxis = {'showgrid': False },\n",
    "    template = 'plotly_dark'\n",
    ")\n",
    "\n",
    "fig.show()"
   ]
  },
  {
   "cell_type": "code",
   "execution_count": null,
   "metadata": {},
   "outputs": [],
   "source": [
    "import plotly.express as px\n",
    "fig = px.histogram(dataset, x=\"age\", color=\"DEATH_EVENT\", marginal=\"violin\", hover_data=dataset.columns, \n",
    "                   title =\"Distribution of AGE Vs DEATH_EVENT\", \n",
    "                   labels={\"age\": \"AGE\"},\n",
    "                   template=\"plotly_dark\",\n",
    "                   color_discrete_map={\"0\": \"RebeccaPurple\", \"1\": \"MediumPurple\"}\n",
    "                  )\n",
    "fig.show()"
   ]
  },
  {
   "cell_type": "code",
   "execution_count": null,
   "metadata": {},
   "outputs": [],
   "source": [
    "# Veamos las características más importantes\n",
    "\n",
    "plt.rcParams['figure.figsize']=15,6 \n",
    "sns.set_style(\"darkgrid\")\n",
    "\n",
    "x = dataset.iloc[:, :-1]\n",
    "y = dataset.iloc[:,-1]\n",
    "\n",
    "from sklearn.ensemble import ExtraTreesClassifier\n",
    "import matplotlib.pyplot as plt\n",
    "model = ExtraTreesClassifier()\n",
    "model.fit(x,y)\n",
    "print(model.feature_importances_) \n",
    "feat_importances = pd.Series(model.feature_importances_, index=x.columns)\n",
    "feat_importances.nlargest(12).plot(kind='barh')\n",
    "plt.show()"
   ]
  },
  {
   "cell_type": "code",
   "execution_count": null,
   "metadata": {},
   "outputs": [],
   "source": [
    "# Distribución de ejection_fraction\n",
    "\n",
    "import plotly.graph_objects as go\n",
    "\n",
    "fig = go.Figure()\n",
    "fig.add_trace(go.Histogram(\n",
    "    x = dataset['ejection_fraction'],\n",
    "    xbins=dict( # bins used for histogram\n",
    "        start=14,\n",
    "        end=80,\n",
    "        size=2\n",
    "    ),\n",
    "    marker_color='#A7F432',\n",
    "    opacity=1\n",
    "))\n",
    "\n",
    "fig.update_layout(\n",
    "    title_text='EJECTION FRACTION DISTRIBUTION',\n",
    "    xaxis_title_text='EJECTION FRACTION',\n",
    "    yaxis_title_text='COUNT', \n",
    "    bargap=0.05, # gap between bars of adjacent location coordinates\n",
    "    xaxis =  {'showgrid': False },\n",
    "    yaxis = {'showgrid': False },\n",
    "    template = 'plotly_dark'\n",
    ")\n",
    "\n",
    "fig.show()"
   ]
  },
  {
   "cell_type": "code",
   "execution_count": null,
   "metadata": {},
   "outputs": [],
   "source": [
    "# Categorizamos el histograma por la variable clasificadora\n",
    "\n",
    "import plotly.express as px\n",
    "fig = px.histogram(dataset, x=\"ejection_fraction\", color=\"DEATH_EVENT\", marginal=\"violin\", hover_data=dataset.columns,\n",
    "                   title =\"Distribution of EJECTION FRACTION Vs DEATH_EVENT\", \n",
    "                   labels={\"ejection_fraction\": \"EJECTION FRACTION\"},\n",
    "                   template=\"plotly_dark\",\n",
    "                   color_discrete_map={\"0\": \"RebeccaPurple\", \"1\": \"MediumPurple\"})\n",
    "fig.show()"
   ]
  },
  {
   "cell_type": "code",
   "execution_count": null,
   "metadata": {},
   "outputs": [],
   "source": [
    "# Distribucion de serum_creatinine\n",
    "\n",
    "import plotly.graph_objects as go\n",
    "\n",
    "fig = go.Figure()\n",
    "fig.add_trace(go.Histogram(\n",
    "    x = dataset['serum_creatinine'],\n",
    "    xbins=dict( # bins used for histogram\n",
    "        start=0.5,\n",
    "        end=9.4,\n",
    "        size=0.2\n",
    "    ),\n",
    "    marker_color='#E77200',\n",
    "    opacity=1\n",
    "))\n",
    "\n",
    "fig.update_layout(\n",
    "    title_text='SERUM CREATININE DISTRIBUTION',\n",
    "    xaxis_title_text='SERUM CREATININE',\n",
    "    yaxis_title_text='COUNT', \n",
    "    bargap=0.05, # gap between bars of adjacent location coordinates\n",
    "    xaxis =  {'showgrid': False },\n",
    "    yaxis = {'showgrid': False },\n",
    "    template = 'plotly_dark'\n",
    ")\n",
    "\n",
    "fig.show()"
   ]
  },
  {
   "cell_type": "code",
   "execution_count": null,
   "metadata": {},
   "outputs": [],
   "source": [
    "# Categorizamos por la variable clasificadora\n",
    "\n",
    "import plotly.express as px\n",
    "fig = px.histogram(dataset, x=\"serum_creatinine\", color=\"DEATH_EVENT\", marginal=\"violin\", hover_data=dataset.columns,\n",
    "                   title =\"Distribution of SERUM CREATININE Vs DEATH_EVENT\", \n",
    "                   labels={\"serum_creatinine\": \"SERUM CREATININE\"},\n",
    "                   template=\"plotly_dark\",\n",
    "                   color_discrete_map={\"0\": \"RebeccaPurple\", \"1\": \"MediumPurple\"})\n",
    "fig.show()"
   ]
  },
  {
   "cell_type": "code",
   "execution_count": null,
   "metadata": {},
   "outputs": [],
   "source": [
    "import plotly.graph_objects as go\n",
    "from plotly.subplots import make_subplots\n",
    "\n",
    "d1 = dataset[(dataset[\"DEATH_EVENT\"]==0) & (dataset[\"diabetes\"]==0)]\n",
    "d2 = dataset[(dataset[\"DEATH_EVENT\"]==0) & (dataset[\"diabetes\"]==1)]\n",
    "d3 = dataset[(dataset[\"DEATH_EVENT\"]==1) & (dataset[\"diabetes\"]==0)]\n",
    "d4 = dataset[(dataset[\"DEATH_EVENT\"]==1) & (dataset[\"diabetes\"]==1)]\n",
    "\n",
    "label1 = [\"No Diabetes\",\"Diabetes\"]\n",
    "label2 = ['No Diabetes - Survived','Diabetes - Survived', \"No Diabetes -  Died\", \"Diabetes  - Died\"]\n",
    "values1 = [(len(d1)+len(d3)), (len(d2)+len(d4))]\n",
    "values2 = [len(d1),len(d2),len(d3),len(d4)]\n",
    "\n",
    "# Create subplots: use 'domain' type for Pie subplot\n",
    "fig = make_subplots(rows=1, cols=2, specs=[[{'type':'domain'}, {'type':'domain'}]])\n",
    "fig.add_trace(go.Pie(labels=label1, values=values1, name=\"DIABETES\"),\n",
    "              1, 1)\n",
    "fig.add_trace(go.Pie(labels=label2, values=values2, name=\"DIABETES VS DEATH_EVENT\"),\n",
    "              1, 2)\n",
    "\n",
    "# Use `hole` to create a donut-like pie chart\n",
    "fig.update_traces(hole=.4, hoverinfo=\"label+percent\")\n",
    "\n",
    "fig.update_layout(\n",
    "    title_text=\"DIABETES DISTRIBUTION IN THE DATASET \\\n",
    "                  DIABETES VS DEATH_EVENT\",\n",
    "    # Add annotations in the center of the donut pies.\n",
    "    annotations=[dict(text='DIABETES', x=0.20, y=0.5, font_size=10, showarrow=False),\n",
    "                 dict(text='DIABETES VS DEATH_EVENT', x=0.84, y=0.5, font_size=8, showarrow=False)],\n",
    "    autosize=False,width=1200, height=500, paper_bgcolor=\"white\")\n",
    "fig.show()"
   ]
  },
  {
   "cell_type": "code",
   "execution_count": null,
   "metadata": {},
   "outputs": [],
   "source": [
    "#Analisis supervivencia en funcion de la presión arterial\n",
    "hbp_yes = dataset[dataset['high_blood_pressure']==1]\n",
    "hbp_no = dataset[dataset['high_blood_pressure']==0]\n",
    "hbp_yes_survi = hbp_yes[dataset[\"DEATH_EVENT\"]==0]\n",
    "hbp_yes_not_survi = hbp_yes[dataset[\"DEATH_EVENT\"]==1]\n",
    "hbp_no_survi = hbp_no[dataset[\"DEATH_EVENT\"]==0]\n",
    "hbp_no_not_survi = hbp_no[dataset[\"DEATH_EVENT\"]==1]\n",
    "\n",
    "labels = ['HBP Yes - Survived','HBP Yes - Not Survived', 'HBP No - Survived', 'HBP NO - Not Survived']\n",
    "values = [len(hbp_yes[dataset[\"DEATH_EVENT\"]==0]),len(hbp_yes[dataset[\"DEATH_EVENT\"]==1]),\n",
    "         len(hbp_no[dataset[\"DEATH_EVENT\"]==0]),len(hbp_no[dataset[\"DEATH_EVENT\"]==1])]\n",
    "fig = go.Figure(data=[go.Pie(labels=labels, values=values, hole=.4)])\n",
    "fig.update_layout(\n",
    "    title_text=\"Analysis on Survival - HBP(high blood pressure)\")\n",
    "fig.show()"
   ]
  },
  {
   "cell_type": "code",
   "execution_count": null,
   "metadata": {},
   "outputs": [],
   "source": [
    "smoke=dataset[dataset['smoking']==1]\n",
    "not_smoke=dataset[dataset['smoking']==0]\n",
    "smoke_surv=smoke[dataset['DEATH_EVENT']==0]\n",
    "smoke_not_surv=not_smoke[dataset['DEATH_EVENT']==1]\n",
    "not_smoke_surv=not_smoke[dataset['DEATH_EVENT']==0]\n",
    "not_smoke_not_surv=not_smoke[dataset['DEATH_EVENT']==1]\n",
    "values=[len(smoke_surv),len(smoke_not_surv),len(not_smoke_surv),len(not_smoke_not_surv)]\n",
    "labels=['smoke-survived','smoke -not survived','not smoke-survived','not smoke-not survived']\n",
    "fig = go.Figure(data=[go.Pie(labels=labels, values=values, hole=.4)])\n",
    "fig.update_layout(\n",
    "    title_text=\"Variable - Smoking\")"
   ]
  },
  {
   "cell_type": "code",
   "execution_count": null,
   "metadata": {},
   "outputs": [],
   "source": [
    "value=dataset.corr()\n",
    "plt.figure(figsize=(12,5))\n",
    "cmap=sns.diverging_palette(h_neg=10,h_pos=240,as_cmap=True)\n",
    "ax=sns.heatmap(value,cmap=cmap,center=0,linewidth=1,annot=True,fmt=\".2f\")\n",
    "bottom, top = ax.get_ylim()\n",
    "ax.set_ylim(bottom + 0.5, top - 0.5)\n",
    "plt.show()"
   ]
  },
  {
   "cell_type": "code",
   "execution_count": null,
   "metadata": {},
   "outputs": [],
   "source": []
  }
 ],
 "metadata": {
  "kernelspec": {
   "display_name": "Python 3",
   "language": "python",
   "name": "python3"
  },
  "language_info": {
   "codemirror_mode": {
    "name": "ipython",
    "version": 3
   },
   "file_extension": ".py",
   "mimetype": "text/x-python",
   "name": "python",
   "nbconvert_exporter": "python",
   "pygments_lexer": "ipython3",
   "version": "3.7.4"
  }
 },
 "nbformat": 4,
 "nbformat_minor": 2
}